{
 "cells": [
  {
   "cell_type": "markdown",
   "metadata": {},
   "source": [
    "### 层次分析法"
   ]
  },
  {
   "cell_type": "code",
   "execution_count": 1,
   "metadata": {},
   "outputs": [],
   "source": [
    "import numpy as np\n",
    "\n",
    "\n",
    "def calculate_CR_W(M: np.ndarray):\n",
    "    \"\"\"\n",
    "    计算CR值\n",
    "\n",
    "    Params:\n",
    "    ---\n",
    "    M: np.ndarray\n",
    "        对比矩阵\n",
    "\n",
    "    Returns:\n",
    "    ---\n",
    "    CR: float\n",
    "        CR值，一般小于 0.1 通过检验\n",
    "    W: np.ndarray\n",
    "        权重向量\n",
    "    \"\"\"\n",
    "    n = M.shape[1]  # 评价指标个数\n",
    "    RI = [0, 0, 0.58, 0.90, 1.12, 1.24, 1.32, 1.41, 1.45, 1.49, 1.51]\n",
    "    # 求判断矩阵的特征值和特征向量，V为特征值，D为特征向量\n",
    "    V, D = np.linalg.eig(M)  # 注意这里的结果是复数，有虚部\n",
    "    # 求矩阵的最大特征值\n",
    "    # eig 方法已经排好了，所以直接取第一个即可\n",
    "    v, d = V[0], D[0]\n",
    "    W = d / np.sum(d)  # 归一化后的权重向量\n",
    "    CI = (v - n) / (n - 1)\n",
    "    CR = CI / RI[n]\n",
    "    return CR, W"
   ]
  },
  {
   "cell_type": "code",
   "execution_count": 2,
   "metadata": {},
   "outputs": [
    {
     "name": "stdout",
     "output_type": "stream",
     "text": [
      "CR= (0.012944482621398318+0j)\n",
      "对比矩阵A通过一致性检验，各向量权重向量Q为：\n",
      "[-0.22963642+0.j          0.08125132+0.10775945j  0.08125132-0.10775945j\n",
      "  1.06713377+0.j        ]\n"
     ]
    }
   ],
   "source": [
    "# 构建矩阵\n",
    "M = np.array(\n",
    "    [\n",
    "        [1, 1 / 5, 1 / 3, 1],\n",
    "        [5, 1, 3, 5],\n",
    "        [3, 1 / 3, 1, 3],\n",
    "        [1, 1 / 5, 1 / 3, 1],\n",
    "    ]\n",
    ")\n",
    "\n",
    "CR, W = calculate_CR_W(M)\n",
    "if CR<0.10:\n",
    "    print(\"CR=\",CR)\n",
    "    print(\"对比矩阵A通过一致性检验，各向量权重向量Q为：\")\n",
    "    print(W)\n",
    "else:\n",
    "    print(\"对比矩阵A未通过一致性检验，需对对比矩阵A重新构造\")"
   ]
  }
 ],
 "metadata": {
  "kernelspec": {
   "display_name": "math",
   "language": "python",
   "name": "python3"
  },
  "language_info": {
   "codemirror_mode": {
    "name": "ipython",
    "version": 3
   },
   "file_extension": ".py",
   "mimetype": "text/x-python",
   "name": "python",
   "nbconvert_exporter": "python",
   "pygments_lexer": "ipython3",
   "version": "3.11.9"
  }
 },
 "nbformat": 4,
 "nbformat_minor": 2
}
